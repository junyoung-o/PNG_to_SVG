{
  "nbformat": 4,
  "nbformat_minor": 0,
  "metadata": {
    "colab": {
      "name": "Png_to_SVG.ipynb",
      "provenance": [],
      "collapsed_sections": []
    },
    "kernelspec": {
      "name": "python3",
      "display_name": "Python 3"
    },
    "language_info": {
      "name": "python"
    }
  },
  "cells": [
    {
      "cell_type": "markdown",
      "metadata": {
        "id": "R1Lje86sbRxY"
      },
      "source": [
        "라이브러리 다운로드"
      ]
    },
    {
      "cell_type": "code",
      "metadata": {
        "id": "Alk8Sfhv44gb"
      },
      "source": [
        "from google.colab import drive\n",
        "drive.mount('/content/drive')"
      ],
      "execution_count": null,
      "outputs": []
    },
    {
      "cell_type": "code",
      "metadata": {
        "id": "VVLfgAqFf0Rw"
      },
      "source": [
        "pip install svgpathtools"
      ],
      "execution_count": null,
      "outputs": []
    },
    {
      "cell_type": "code",
      "metadata": {
        "id": "uTX-xvxUBwQT"
      },
      "source": [
        "!apt-get update"
      ],
      "execution_count": null,
      "outputs": []
    },
    {
      "cell_type": "code",
      "metadata": {
        "id": "OlWNAp1qkg4q"
      },
      "source": [
        "!apt install -y imagemagick"
      ],
      "execution_count": null,
      "outputs": []
    },
    {
      "cell_type": "code",
      "metadata": {
        "id": "snMMuUfLAHbA"
      },
      "source": [
        "!apt-get install libtool"
      ],
      "execution_count": null,
      "outputs": []
    },
    {
      "cell_type": "code",
      "metadata": {
        "id": "1Mhz1Uz2meMU"
      },
      "source": [
        "!sudo apt install intltool imagemagick libmagickcore-dev pstoedit libpstoedit-dev autopoint"
      ],
      "execution_count": null,
      "outputs": []
    },
    {
      "cell_type": "code",
      "metadata": {
        "id": "9FeJ1aeM_uMz"
      },
      "source": [
        "!git clone https://github.com/autotrace/autotrace.git"
      ],
      "execution_count": null,
      "outputs": []
    },
    {
      "cell_type": "code",
      "metadata": {
        "id": "e5mWUG8J_wqd"
      },
      "source": [
        "cd ./autotrace"
      ],
      "execution_count": null,
      "outputs": []
    },
    {
      "cell_type": "code",
      "metadata": {
        "id": "SDcCvmeP_ybX"
      },
      "source": [
        "!./autogen.sh"
      ],
      "execution_count": null,
      "outputs": []
    },
    {
      "cell_type": "code",
      "metadata": {
        "id": "6ZrkJF-wAQKQ"
      },
      "source": [
        "!LD_LIBRARY_PATH=/usr/local/lib ./configure --prefix=/usr"
      ],
      "execution_count": null,
      "outputs": []
    },
    {
      "cell_type": "code",
      "metadata": {
        "id": "S5j3xWX7ATX3"
      },
      "source": [
        "!make"
      ],
      "execution_count": null,
      "outputs": []
    },
    {
      "cell_type": "code",
      "metadata": {
        "id": "aqpKIlBjAUql"
      },
      "source": [
        "!make install"
      ],
      "execution_count": null,
      "outputs": []
    },
    {
      "cell_type": "markdown",
      "metadata": {
        "id": "OULaelb4bV5c"
      },
      "source": [
        "버전 확인"
      ]
    },
    {
      "cell_type": "code",
      "metadata": {
        "id": "LR3Nx1D7AeG7"
      },
      "source": [
        "!autotrace -v"
      ],
      "execution_count": null,
      "outputs": []
    },
    {
      "cell_type": "code",
      "metadata": {
        "id": "VkFCsJd7_r7i"
      },
      "source": [
        "cd .."
      ],
      "execution_count": null,
      "outputs": []
    },
    {
      "cell_type": "markdown",
      "metadata": {
        "id": "ItBDneQBbb6B"
      },
      "source": [
        "Png to SVG 다운로드"
      ]
    },
    {
      "cell_type": "code",
      "metadata": {
        "id": "iOLBux40fn6-"
      },
      "source": [
        "!git clone https://github.com/UmarSpa/PNG-to-SVG.git"
      ],
      "execution_count": null,
      "outputs": []
    },
    {
      "cell_type": "code",
      "metadata": {
        "id": "_5gGtoLxfzfD"
      },
      "source": [
        "cd PNG-to-SVG"
      ],
      "execution_count": null,
      "outputs": []
    },
    {
      "cell_type": "markdown",
      "metadata": {
        "id": "iDtVcN49bZoP"
      },
      "source": [
        "실행"
      ]
    },
    {
      "cell_type": "code",
      "metadata": {
        "id": "XqDQ2jNxQ5Jz"
      },
      "source": [
        "!mkdir pseudo"
      ],
      "execution_count": null,
      "outputs": []
    },
    {
      "cell_type": "code",
      "source": [
        "!mkdir fdog"
      ],
      "metadata": {
        "id": "_jV0R80XBwl0"
      },
      "execution_count": null,
      "outputs": []
    },
    {
      "cell_type": "code",
      "source": [
        "!mkdir real"
      ],
      "metadata": {
        "id": "efxp10LmImLk"
      },
      "execution_count": null,
      "outputs": []
    },
    {
      "cell_type": "code",
      "metadata": {
        "id": "-sc4uzM6f0Uk"
      },
      "source": [
        "!bash ./main.sh"
      ],
      "execution_count": null,
      "outputs": []
    },
    {
      "cell_type": "code",
      "metadata": {
        "id": "ltKPp2-ZIfMm"
      },
      "source": [
        "!rm -r fdog"
      ],
      "execution_count": null,
      "outputs": []
    }
  ]
}